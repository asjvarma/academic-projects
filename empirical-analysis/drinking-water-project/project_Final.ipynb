{
 "cells": [
  {
   "cell_type": "code",
   "execution_count": 7,
   "id": "1fd2b61d",
   "metadata": {},
   "outputs": [
    {
     "ename": "NameError",
     "evalue": "name 'sn' is not defined",
     "output_type": "error",
     "traceback": [
      "\u001b[1;31m---------------------------------------------------------------------------\u001b[0m",
      "\u001b[1;31mNameError\u001b[0m                                 Traceback (most recent call last)",
      "Input \u001b[1;32mIn [7]\u001b[0m, in \u001b[0;36m<cell line: 15>\u001b[1;34m()\u001b[0m\n\u001b[0;32m     12\u001b[0m bp\u001b[38;5;241m=\u001b[39max\u001b[38;5;241m.\u001b[39mboxplot(to_plot)\n\u001b[0;32m     13\u001b[0m fig\u001b[38;5;241m.\u001b[39msavefig(\u001b[38;5;124m'\u001b[39m\u001b[38;5;124mboxplot.png\u001b[39m\u001b[38;5;124m'\u001b[39m,bbox_inches\u001b[38;5;241m=\u001b[39m\u001b[38;5;124m'\u001b[39m\u001b[38;5;124mtight\u001b[39m\u001b[38;5;124m'\u001b[39m)\n\u001b[1;32m---> 15\u001b[0m ax \u001b[38;5;241m=\u001b[39m \u001b[43msn\u001b[49m\u001b[38;5;241m.\u001b[39mboxplot(x\u001b[38;5;241m=\u001b[39m\u001b[38;5;124m'\u001b[39m\u001b[38;5;124mday\u001b[39m\u001b[38;5;124m'\u001b[39m, y\u001b[38;5;241m=\u001b[39m\u001b[38;5;124m'\u001b[39m\u001b[38;5;124mtotal_bill\u001b[39m\u001b[38;5;124m'\u001b[39m, hue\u001b[38;5;241m=\u001b[39m\u001b[38;5;124m'\u001b[39m\u001b[38;5;124msmoker\u001b[39m\u001b[38;5;124m'\u001b[39m,data\u001b[38;5;241m=\u001b[39mtips, palette\u001b[38;5;241m=\u001b[39m\u001b[38;5;124m'\u001b[39m\u001b[38;5;124mSet3\u001b[39m\u001b[38;5;124m'\u001b[39m)\n\u001b[0;32m     16\u001b[0m plt\u001b[38;5;241m.\u001b[39mshow()\n",
      "\u001b[1;31mNameError\u001b[0m: name 'sn' is not defined"
     ]
    },
    {
     "data": {
      "image/png": "[encoded data removed]",
      "text/plain": [
       "<Figure size 648x432 with 1 Axes>"
      ]
     },
     "metadata": {
      "needs_background": "light"
     },
     "output_type": "display_data"
    }
   ],
   "source": [
    "import numpy as np\n",
    "import matplotlib.pyplot as plt\n",
    "\n",
    "np.random.seed(10)\n",
    "one=np.random.normal(100,10,200)\n",
    "two=np.random.normal(80, 30, 200)\n",
    "three=np.random.normal(90, 20, 200)\n",
    "four=np.random.normal(70, 25, 200)\n",
    "to_plot=[one,two,three,four]\n",
    "fig=plt.figure(1,figsize=(9,6))\n",
    "ax=fig.add_subplot(111)\n",
    "bp=ax.boxplot(to_plot)\n",
    "fig.savefig('boxplot.png',bbox_inches='tight')\n",
    "\n",
    "ax = sn.boxplot(x='day', y='total_bill', hue='smoker',data=tips, palette='Set3')\n",
    "plt.show()"
   ]
  },
  {
   "cell_type": "code",
   "execution_count": 4,
   "id": "34e7a45d",
   "metadata": {},
   "outputs": [
    {
     "ename": "SyntaxError",
     "evalue": "invalid character '’' (U+2019) (3415880513.py, line 4)",
     "output_type": "error",
     "traceback": [
      "\u001b[1;36m  Input \u001b[1;32mIn [4]\u001b[1;36m\u001b[0m\n\u001b[1;33m    plt.plot(x,y,’o’,color=’purple’)\u001b[0m\n\u001b[1;37m                 ^\u001b[0m\n\u001b[1;31mSyntaxError\u001b[0m\u001b[1;31m:\u001b[0m invalid character '’' (U+2019)\n"
     ]
    }
   ],
   "source": [
    "x=np.linspace(0,10,30)\n",
    ">>> from scipy import sin\n",
    ">>> y=np.sin(x)\n",
    ">>> plt.plot(x,y,'tso’,color=’purple’)\n",
    "[<matplotlib.lines.Line2D object at 0x080D3890>]\n",
    "\n",
    ">>> plt.show()"
   ]
  },
  {
   "cell_type": "code",
   "execution_count": 15,
   "id": "a3ab4aec",
   "metadata": {},
   "outputs": [
    {
     "name": "stdout",
     "output_type": "stream",
     "text": [
      "                            OLS Regression Results                            \n",
      "==============================================================================\n",
      "Dep. Variable:                    WQI   R-squared:                       0.803\n",
      "Model:                            OLS   Adj. R-squared:                  0.801\n",
      "Method:                 Least Squares   F-statistic:                     399.3\n",
      "Date:                Fri, 09 Dec 2022   Prob (F-statistic):           2.43e-36\n",
      "Time:                        17:46:37   Log-Likelihood:                -404.63\n",
      "No. Observations:                 100   AIC:                             813.3\n",
      "Df Residuals:                      98   BIC:                             818.5\n",
      "Df Model:                           1                                         \n",
      "Covariance Type:            nonrobust                                         \n",
      "==============================================================================\n",
      "                 coef    std err          t      P>|t|      [0.025      0.975]\n",
      "------------------------------------------------------------------------------\n",
      "const         26.7775      1.732     15.464      0.000      23.341      30.214\n",
      "Calcium        0.5486      0.027     19.983      0.000       0.494       0.603\n",
      "==============================================================================\n",
      "Omnibus:                        7.021   Durbin-Watson:                   2.182\n",
      "Prob(Omnibus):                  0.030   Jarque-Bera (JB):                6.854\n",
      "Skew:                           0.638   Prob(JB):                       0.0325\n",
      "Kurtosis:                       3.127   Cond. No.                         78.1\n",
      "==============================================================================\n",
      "\n",
      "Notes:\n",
      "[1] Standard Errors assume that the covariance matrix of the errors is correctly specified.\n"
     ]
    }
   ],
   "source": [
    "import numpy as np\n",
    "import pandas as pd\n",
    "import statsmodels.api as sm\n",
    "\n",
    "spector_data = pd.read_csv('./DrinkingWater_Final_Dataset.csv').sample(100, random_state=0)\n",
    "\n",
    "# spector_data.exog = sm.add_constant(spector_data.exog, prepend=False)\n",
    "x = sm.add_constant(spector_data['Calcium'])\n",
    "y = spector_data['WQI']\n",
    "\n",
    "# Fit and summarize OLS model\n",
    "mod = sm.OLS(y, x)\n",
    "\n",
    "res = mod.fit()\n",
    "\n",
    "print(res.summary())"
   ]
  },
  {
   "cell_type": "code",
   "execution_count": 13,
   "id": "e92c4e3e",
   "metadata": {},
   "outputs": [
    {
     "name": "stdout",
     "output_type": "stream",
     "text": [
      "                            OLS Regression Results                            \n",
      "==============================================================================\n",
      "Dep. Variable:                    WQI   R-squared:                       0.930\n",
      "Model:                            OLS   Adj. R-squared:                  0.929\n",
      "Method:                 Least Squares   F-statistic:                     3150.\n",
      "Date:                Fri, 09 Dec 2022   Prob (F-statistic):               0.00\n",
      "Time:                        17:39:53   Log-Likelihood:                -3129.4\n",
      "No. Observations:                 718   AIC:                             6267.\n",
      "Df Residuals:                     714   BIC:                             6285.\n",
      "Df Model:                           3                                         \n",
      "Covariance Type:            nonrobust                                         \n",
      "==============================================================================\n",
      "                 coef    std err          t      P>|t|      [0.025      0.975]\n",
      "------------------------------------------------------------------------------\n",
      "const         28.9180      0.820     35.248      0.000      27.307      30.529\n",
      "Calcium        0.1955      0.008     23.357      0.000       0.179       0.212\n",
      "Chloride       0.0919      0.003     32.460      0.000       0.086       0.097\n",
      "Sodium         0.1221      0.008     15.471      0.000       0.107       0.138\n",
      "==============================================================================\n",
      "Omnibus:                      250.787   Durbin-Watson:                   1.739\n",
      "Prob(Omnibus):                  0.000   Jarque-Bera (JB):             3376.081\n",
      "Skew:                           1.175   Prob(JB):                         0.00\n",
      "Kurtosis:                      13.360   Cond. No.                         469.\n",
      "==============================================================================\n",
      "\n",
      "Notes:\n",
      "[1] Standard Errors assume that the covariance matrix of the errors is correctly specified.\n"
     ]
    }
   ],
   "source": [
    "import numpy as np\n",
    "import pandas as pd\n",
    "import statsmodels.api as sm\n",
    "\n",
    "spector_data = pd.read_csv('./DrinkingWater_Final_Dataset.csv')\n",
    "\n",
    "# spector_data.exog = sm.add_constant(spector_data.exog, prepend=False)\n",
    "x = sm.add_constant(spector_data[['Calcium', 'Chloride', 'Sodium']])\n",
    "y = spector_data['WQI']\n",
    "\n",
    "# Fit and summarize OLS model\n",
    "mod = sm.OLS(y, x)\n",
    "\n",
    "res = mod.fit()\n",
    "\n",
    "print(res.summary())"
   ]
  },
  {
   "cell_type": "code",
   "execution_count": null,
   "id": "3ebcd93d",
   "metadata": {},
   "outputs": [],
   "source": []
  }
 ],
 "metadata": {
  "kernelspec": {
   "display_name": "Python 3 (ipykernel)",
   "language": "python",
   "name": "python3"
  },
  "language_info": {
   "codemirror_mode": {
    "name": "ipython",
    "version": 3
   },
   "file_extension": ".py",
   "mimetype": "text/x-python",
   "name": "python",
   "nbconvert_exporter": "python",
   "pygments_lexer": "ipython3",
   "version": "3.9.12"
  }
 },
 "nbformat": 4,
 "nbformat_minor": 5
}
