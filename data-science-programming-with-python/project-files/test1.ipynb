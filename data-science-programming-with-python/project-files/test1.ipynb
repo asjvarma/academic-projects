{
 "cells": [
  {
   "cell_type": "code",
   "execution_count": 1,
   "id": "812c4baa",
   "metadata": {},
   "outputs": [
    {
     "name": "stdout",
     "output_type": "stream",
     "text": [
      "            Maker Genmodel Genmodel_ID   Adv_ID  Adv_year  Adv_month   Color  \\\n",
      "0         Bentley   Arnage        10_1  10_1$$1    2018.0        4.0  Silver   \n",
      "1         Bentley   Arnage        10_1  10_1$$2    2018.0        6.0    Grey   \n",
      "2         Bentley   Arnage        10_1  10_1$$3    2017.0       11.0    Blue   \n",
      "3         Bentley   Arnage        10_1  10_1$$4    2018.0        4.0   Green   \n",
      "4         Bentley   Arnage        10_1  10_1$$5    2017.0       11.0    Grey   \n",
      "...           ...      ...         ...      ...       ...        ...     ...   \n",
      "268250  Westfield    Sport        97_1  97_1$$1    2018.0        5.0  Yellow   \n",
      "268251  Westfield    Sport        97_1  97_1$$2    2018.0        5.0  Yellow   \n",
      "268252      Zenos      E10        99_1  99_1$$1    2018.0        3.0     Red   \n",
      "268253      Zenos      E10        99_1  99_1$$2    2018.0        3.0   Green   \n",
      "268254      Zenos      E10        99_1  99_1$$3    2018.0        5.0    Grey   \n",
      "\n",
      "        Reg_year     Bodytype Runned_Miles Engin_size    Gearbox Fuel_type  \\\n",
      "0         2000.0       Saloon        60000       6.8L  Automatic    Petrol   \n",
      "1         2002.0       Saloon        44000       6.8L  Automatic    Petrol   \n",
      "2         2002.0       Saloon        55000       6.8L  Automatic    Petrol   \n",
      "3         2003.0       Saloon        14000       6.8L  Automatic    Petrol   \n",
      "4         2003.0       Saloon        61652       6.8L  Automatic    Petrol   \n",
      "...          ...          ...          ...        ...        ...       ...   \n",
      "268250    2006.0  Convertible         1800       2.2L     Manual    Petrol   \n",
      "268251    2006.0  Convertible         2009        NaN     Manual       NaN   \n",
      "268252    2016.0  Convertible            6       2.0L     Manual    Petrol   \n",
      "268253    2016.0  Convertible         1538       2.0L     Manual    Petrol   \n",
      "268254    2016.0  Convertible          500       2.3L     Manual    Petrol   \n",
      "\n",
      "        Price  Seat_num  Door_num  \n",
      "0       21500       5.0       4.0  \n",
      "1       28750       5.0       4.0  \n",
      "2       29999       5.0       4.0  \n",
      "3       34948       5.0       4.0  \n",
      "4       26555       5.0       4.0  \n",
      "...       ...       ...       ...  \n",
      "268250   8750       2.0       NaN  \n",
      "268251   7995       NaN       NaN  \n",
      "268252  27950       2.0       NaN  \n",
      "268253  34950       2.0       NaN  \n",
      "268254  29995       2.0       NaN  \n",
      "\n",
      "[268255 rows x 16 columns]\n"
     ]
    }
   ],
   "source": [
    "import pyreadr as pyr\n",
    "import pandas as pd\n",
    "import numpy as np \n",
    "import matplotlib.pyplot as plt\n",
    "from sklearn.preprocessing import OneHotEncoder\n",
    "from sklearn.compose import make_column_transformer # used with one hot encoding\n",
    "from sklearn.model_selection import train_test_split\n",
    "from sklearn.ensemble import ExtraTreesRegressor\n",
    "from sklearn.pipeline import Pipeline\n",
    "from sklearn.linear_model import LogisticRegression\n",
    "from sklearn import metrics\n",
    "from sklearn.inspection import permutation_importance\n",
    "\n",
    "carAd_file = pyr.read_r(\"car_ads_fp.RData\")\n",
    "carAd = carAd_file[\"carAd\"]\n",
    "carAd = pd.DataFrame(carAd) # so pd functions are colored\n",
    "carAd.reset_index(drop = True, inplace = True)\n",
    "print(carAd)"
   ]
  },
  {
   "cell_type": "code",
   "execution_count": 2,
   "id": "9884d186",
   "metadata": {},
   "outputs": [
    {
     "name": "stdout",
     "output_type": "stream",
     "text": [
      "Requirement already satisfied: pyreadr in c:\\users\\admin\\anaconda3\\lib\\site-packages (0.5.0)\n",
      "Requirement already satisfied: pandas in c:\\users\\admin\\anaconda3\\lib\\site-packages (1.4.4)\n",
      "Requirement already satisfied: numpy in c:\\users\\admin\\anaconda3\\lib\\site-packages (1.22.4)\n",
      "Requirement already satisfied: matplotlib in c:\\users\\admin\\anaconda3\\lib\\site-packages (3.5.3)\n",
      "Requirement already satisfied: scikit-learn in c:\\users\\admin\\anaconda3\\lib\\site-packages (1.0.2)\n",
      "Requirement already satisfied: pytz>=2020.1 in c:\\users\\admin\\anaconda3\\lib\\site-packages (from pandas) (2021.3)\n",
      "Requirement already satisfied: python-dateutil>=2.8.1 in c:\\users\\admin\\anaconda3\\lib\\site-packages (from pandas) (2.8.2)\n",
      "Requirement already satisfied: packaging>=20.0 in c:\\users\\admin\\anaconda3\\lib\\site-packages (from matplotlib) (21.3)\n",
      "Requirement already satisfied: fonttools>=4.22.0 in c:\\users\\admin\\anaconda3\\lib\\site-packages (from matplotlib) (4.25.0)\n",
      "Requirement already satisfied: kiwisolver>=1.0.1 in c:\\users\\admin\\anaconda3\\lib\\site-packages (from matplotlib) (1.3.2)\n",
      "Requirement already satisfied: pillow>=6.2.0 in c:\\users\\admin\\anaconda3\\lib\\site-packages (from matplotlib) (9.0.1)\n",
      "Requirement already satisfied: pyparsing>=2.2.1 in c:\\users\\admin\\anaconda3\\lib\\site-packages (from matplotlib) (3.0.4)\n",
      "Requirement already satisfied: cycler>=0.10 in c:\\users\\admin\\anaconda3\\lib\\site-packages (from matplotlib) (0.11.0)\n",
      "Requirement already satisfied: scipy>=1.1.0 in c:\\users\\admin\\anaconda3\\lib\\site-packages (from scikit-learn) (1.7.3)\n",
      "Requirement already satisfied: joblib>=0.11 in c:\\users\\admin\\anaconda3\\lib\\site-packages (from scikit-learn) (1.1.0)\n",
      "Requirement already satisfied: threadpoolctl>=2.0.0 in c:\\users\\admin\\anaconda3\\lib\\site-packages (from scikit-learn) (2.2.0)\n",
      "Requirement already satisfied: six>=1.5 in c:\\users\\admin\\anaconda3\\lib\\site-packages (from python-dateutil>=2.8.1->pandas) (1.16.0)\n"
     ]
    }
   ],
   "source": [
    "!pip install pyreadr pandas numpy matplotlib scikit-learn\n"
   ]
  },
  {
   "cell_type": "code",
   "execution_count": 3,
   "id": "a162ea20",
   "metadata": {},
   "outputs": [
    {
     "name": "stdout",
     "output_type": "stream",
     "text": [
      "Corsa             5569\n",
      "Focus             5179\n",
      "Fiesta            4761\n",
      "Juke              3427\n",
      "X5                3372\n",
      "                  ... \n",
      "GS 430               1\n",
      "Fairlady             1\n",
      "GS Unspecified       1\n",
      "Wish                 1\n",
      "AMG                  1\n",
      "Name: Genmodel, Length: 896, dtype: int64\n",
      "['Corsa', 'Focus', 'Fiesta', 'Juke', 'X5', 'Astra', 'Mondeo', 'Golf', '500', 'Kuga', 'Qashqai', 'Range Rover', 'Ka', 'Clio', 'XF', 'Insignia', 'Micra', 'CR-V', 'A3', 'Mazda3', 'Passat', 'Auris', 'Q3', '1 Series', 'Discovery 4', 'Touran', '911', 'Yaris', 'Q5', 'Superb', 'Grand C4 Picasso', 'Mazda6', 'Meriva', 'C3', 'C-Max', 'A1', 'XE', 'Citigo', 'A6 Saloon', '3 Series', '208', 'X3', 'Zafira', 'up!', 'X-Trail', 'Scirocco', 'A4', \"'Cee''d'\", 'Freelander 2', 'S-Max']\n"
     ]
    }
   ],
   "source": [
    "# 50 models\n",
    "print(carAd[\"Genmodel\"].value_counts(dropna = False))\n",
    "#captures 0-49 to model classes\n",
    "mods = carAd[\"Genmodel\"].value_counts().index.tolist()[:50]\n",
    "print(mods) # inspect\n"
   ]
  },
  {
   "cell_type": "code",
   "execution_count": 4,
   "id": "793164bd",
   "metadata": {},
   "outputs": [
    {
     "name": "stdout",
     "output_type": "stream",
     "text": [
      "Black          48751\n",
      "Silver         40214\n",
      "Blue           38376\n",
      "Grey           37678\n",
      "White          34270\n",
      "Red            25987\n",
      "NaN            21875\n",
      "Green           5027\n",
      "Yellow          3072\n",
      "Brown           2878\n",
      "Orange          2829\n",
      "Beige           1982\n",
      "Purple          1361\n",
      "Gold            1223\n",
      "Bronze          1200\n",
      "Multicolour      800\n",
      "Pink             299\n",
      "Maroon           179\n",
      "Turquoise        176\n",
      "Burgundy          48\n",
      "Magenta           18\n",
      "Navy               8\n",
      "Indigo             4\n",
      "Name: Color, dtype: int64\n",
      "['Black', 'Silver', 'Blue', 'Grey', 'White']\n"
     ]
    }
   ],
   "source": [
    "# 5 colors \n",
    "print(carAd[\"Color\"].value_counts(dropna = False))\n",
    "# captures 0-4 top color classes\n",
    "cols = carAd[\"Color\"].value_counts().index.tolist()[:5]\n",
    "print(cols) # inspect"
   ]
  },
  {
   "cell_type": "code",
   "execution_count": 5,
   "id": "649af5af",
   "metadata": {},
   "outputs": [
    {
     "ename": "SyntaxError",
     "evalue": "invalid syntax (2765413557.py, line 2)",
     "output_type": "error",
     "traceback": [
      "\u001b[1;36m  Input \u001b[1;32mIn [5]\u001b[1;36m\u001b[0m\n\u001b[1;33m    print(carAd[\"Gearbox\"].value_counts(dropna = False))\u001b[0m\n\u001b[1;37m    ^\u001b[0m\n\u001b[1;31mSyntaxError\u001b[0m\u001b[1;31m:\u001b[0m invalid syntax\n"
     ]
    }
   ],
   "source": [
    "print(carAd[\"Bodytype\"].value_counts(dropna = False)\n",
    "print(carAd[\"Gearbox\"].value_counts(dropna = False))\n",
    "# only diesel and petrol (unleaded) fuel\n",
    "print(carAd[\"Fuel\"].value_counts(dropna = False))\n",
    "print(carAd[\"seat_num\"].value_counts(dropna = False)\n",
    "print(carAd[\"door_num\"].value_counts(dropna = False)\n"
   ]
  },
  {
   "cell_type": "code",
   "execution_count": null,
   "id": "f0d3cd8d",
   "metadata": {},
   "outputs": [],
   "source": [
    "# 50 models using mods list\n",
    "# print(carAd[\"Genmodel\"].value_counts(dropna = False)) \n",
    "carAd_r1 = carAd[carAd[\"Genmodel\"].isin(mods)]\n",
    "print(carAd_r1[\"Genmodel\"].value_counts(dropna = False))"
   ]
  },
  {
   "cell_type": "code",
   "execution_count": null,
   "id": "934330dd",
   "metadata": {},
   "outputs": [],
   "source": [
    "# 6 colors using cols list\n",
    "print(carAd_r1[\"Color\"].value_counts(dropna = False))\n",
    "carAd_r2 = carAd_r1[carAd_r1[\"Color\"].isin(cols)]\n",
    "print(carAd_r2[\"Color\"].value_counts(dropna = False))"
   ]
  },
  {
   "cell_type": "code",
   "execution_count": null,
   "id": "a6ade696",
   "metadata": {},
   "outputs": [],
   "source": [
    "data_revised = data.drop(columns = \"column name\")"
   ]
  },
  {
   "cell_type": "code",
   "execution_count": null,
   "id": "0fc104da",
   "metadata": {},
   "outputs": [],
   "source": [
    "cTrans.fit(carAd_r8) "
   ]
  },
  {
   "cell_type": "code",
   "execution_count": null,
   "id": "fbdcce41",
   "metadata": {},
   "outputs": [],
   "source": [
    "pip install cTrans"
   ]
  },
  {
   "cell_type": "code",
   "execution_count": null,
   "id": "754ce8fa",
   "metadata": {},
   "outputs": [],
   "source": [
    "pip install ctransformers"
   ]
  },
  {
   "cell_type": "code",
   "execution_count": null,
   "id": "677c9ff3",
   "metadata": {},
   "outputs": [],
   "source": [
    "import ctransformers as cTrans\n",
    "cTrans.fit(carAd_r2) "
   ]
  },
  {
   "cell_type": "code",
   "execution_count": null,
   "id": "335ad85c",
   "metadata": {},
   "outputs": [],
   "source": [
    "pipe = Pipeline(steps = [('ctrf', cTrans), ('model', etr)])"
   ]
  },
  {
   "cell_type": "code",
   "execution_count": null,
   "id": "ef10fb99",
   "metadata": {},
   "outputs": [],
   "source": [
    "x,testX,y,testY = train_test_split(carAd.iloc[:,carAd.columns!=[\"Price\"], carAd[\"Price\"], test_size = .3, stratify = carAd[\"Maker\"], random_state = 1)"
   ]
  },
  {
   "cell_type": "code",
   "execution_count": null,
   "id": "5dd01793",
   "metadata": {},
   "outputs": [],
   "source": [
    "pipe = Pipeline(steps=[(\"scaler\", StandardScaler()), (\"clf\", LogisticRegression())])\n",
    "pipe.fit(x, y)  # training <- this may take a few minutes!\n",
    "print(\"R\\N{SUPERSCRIPT TWO} =\", pipe.score(x, y))\n",
    "# R² = 0.9980646255482711\n",
    "trPr = pipe.predict(x)\n",
    "print(\"RMSE =\",metrics.mean_squared_error(y,trPr,squared = False))\n",
    "# RMSE = 457.11440511573124\n"
   ]
  },
  {
   "cell_type": "code",
   "execution_count": null,
   "id": "e8d24331",
   "metadata": {},
   "outputs": [],
   "source": [
    "pred = pipe.predict(testX)\n",
    "print(\"R\\N{SUPERSCRIPT TWO} =\",metrics.explained_variance_score(testY,pred)) \n",
    "# R² = 0.9152397309162292\n",
    "print(\"RMSE =\",metrics.mean_squared_error(testY,pred,squared = False)) \n",
    "# RMSE = 3151.612939664625\n"
   ]
  },
  {
   "cell_type": "code",
   "execution_count": null,
   "id": "da93375a",
   "metadata": {},
   "outputs": [],
   "source": [
    "import pandas as pd\n",
    "\n",
    "# Models of interest\n",
    "models_of_interest = ['C3', 'DS3', 'Grande Punto', 'Panda']\n",
    "\n",
    "# Filtering the DataFrame for these specific models and getting their counts\n",
    "filtered_models_counts = carAd[\"Genmodel\"].value_counts(dropna = False).loc[models_of_interest]\n",
    "\n",
    "# Displaying the counts for the models of interest\n",
    "print(filtered_models_counts)\n"
   ]
  },
  {
   "cell_type": "code",
   "execution_count": null,
   "id": "7aa27c95",
   "metadata": {},
   "outputs": [],
   "source": [
    "import pandas as pd\n",
    "\n",
    "# Models of interest\n",
    "models_of_interest = ['C3', 'DS3', 'Grande Punto', 'Panda']\n",
    "\n",
    "# Filtering the DataFrame for these specific models and getting their counts\n",
    "filtered_models_counts = carAd[\"Genmodel\"].value_counts(dropna = False).loc[models_of_interest]\n",
    "\n",
    "# Displaying the counts for the models of interest\n",
    "print(filtered_models_counts)\n",
    "\n"
   ]
  },
  {
   "cell_type": "code",
   "execution_count": null,
   "id": "8f7165fc",
   "metadata": {},
   "outputs": [],
   "source": [
    "# Filter for 'Hatchback' bodytype and 'Petrol' or 'Diesel' fuel types\n",
    "filtered_cars = carAd[\n",
    "    (carAd['Bodytype'] == 'Hatchback') & \n",
    "    (carAd['Fuel_type'].isin(['Petrol', 'Diesel']))\n",
    "]\n",
    "\n",
    "# Display the filtered DataFrame\n",
    "print(filtered_cars)\n"
   ]
  },
  {
   "cell_type": "code",
   "execution_count": null,
   "id": "98bc934f",
   "metadata": {},
   "outputs": [],
   "source": [
    "# Filter for 'Hatchback' bodytype, 'Petrol' or 'Diesel' fuel types, and specified models\n",
    "filtered_cars = carAd[\n",
    "    (carAd['Bodytype'] == 'Hatchback') & \n",
    "    (carAd['Fuel_type'].isin(['Petrol', 'Diesel'])) &\n",
    "    (carAd['Genmodel'].isin(['C3', 'DS3', 'Grande Punto', 'Panda']))\n",
    "]\n",
    "\n",
    "# Display the filtered DataFrame\n",
    "print(filtered_cars)\n"
   ]
  },
  {
   "cell_type": "code",
   "execution_count": null,
   "id": "a0a14398",
   "metadata": {},
   "outputs": [],
   "source": [
    "# Assuming 'carAd' is a DataFrame with the car advertisement data, \n",
    "# first we need to determine the 5 most frequently advertised colors for the specified models.\n",
    "\n",
    "# Get the 5 most common colors for the specified models\n",
    "top_5_colors = carAd[carAd['Genmodel'].isin(['C3', 'DS3', 'Grande Punto', 'Panda'])]['Color'].value_counts().head(5).index.tolist()\n",
    "\n",
    "# Filter for 'Hatchback' bodytype, 'Petrol' or 'Diesel' fuel types, and specified models\n",
    "filtered_cars = carAd[\n",
    "    (carAd['Bodytype'] == 'Hatchback') & \n",
    "    (carAd['Fuel_type'].isin(['Petrol', 'Diesel'])) &\n",
    "    (carAd['Genmodel'].isin(['C3', 'DS3', 'Grande Punto', 'Panda'])) &\n",
    "    (carAd['Color'].isin(top_5_colors))\n",
    "\n",
    "]\n",
    "\n",
    "# Display the filtered DataFrame with the top 5 colors\n",
    "print(filtered_cars)\n"
   ]
  },
  {
   "cell_type": "code",
   "execution_count": null,
   "id": "78972026",
   "metadata": {},
   "outputs": [],
   "source": [
    "# Get the 5 most common colors for the specified models\n",
    "top_5_colors = carAd[carAd['Genmodel'].isin(['C3', 'DS3', 'Grande Punto', 'Panda'])]['Color'].value_counts().head(5).index.tolist()\n",
    "\n",
    "# Filter for 'Hatchback' bodytype, 'Petrol' or 'Diesel' fuel types, and specified models\n",
    "filtered_cars = carAd[\n",
    "    (carAd['Bodytype'] == 'Hatchback') & \n",
    "    (carAd['Fuel_type'].isin(['Petrol', 'Diesel'])) &\n",
    "    (carAd['Genmodel'].isin(['C3', 'DS3', 'Grande Punto', 'Panda'])) &\n",
    "    (carAd['Color'].isin(top_5_colors))\n",
    "]\n",
    "\n",
    "# Select only the required columns\n",
    "filtered_cars = filtered_cars[['Maker', 'Genmodel', 'Color', 'Gearbox', 'Fuel_type', 'Bodytype']]\n",
    "\n",
    "# Display the filtered DataFrame with the specified columns\n",
    "print(filtered_cars)\n",
    "\n"
   ]
  },
  {
   "cell_type": "code",
   "execution_count": null,
   "id": "f3086003",
   "metadata": {},
   "outputs": [],
   "source": [
    "pip install nbconvert"
   ]
  }
 ],
 "metadata": {
  "kernelspec": {
   "display_name": "Python 3 (ipykernel)",
   "language": "python",
   "name": "python3"
  },
  "language_info": {
   "codemirror_mode": {
    "name": "ipython",
    "version": 3
   },
   "file_extension": ".py",
   "mimetype": "text/x-python",
   "name": "python",
   "nbconvert_exporter": "python",
   "pygments_lexer": "ipython3",
   "version": "3.9.12"
  }
 },
 "nbformat": 4,
 "nbformat_minor": 5
}
