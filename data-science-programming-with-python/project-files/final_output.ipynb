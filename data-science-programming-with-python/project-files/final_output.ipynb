{
 "cells": [
  {
   "cell_type": "code",
   "execution_count": 1,
   "id": "971a646a",
   "metadata": {},
   "outputs": [
    {
     "name": "stdout",
     "output_type": "stream",
     "text": [
      "            Maker Genmodel Genmodel_ID   Adv_ID  Adv_year  Adv_month   Color  \\\n",
      "0         Bentley   Arnage        10_1  10_1$$1    2018.0        4.0  Silver   \n",
      "1         Bentley   Arnage        10_1  10_1$$2    2018.0        6.0    Grey   \n",
      "2         Bentley   Arnage        10_1  10_1$$3    2017.0       11.0    Blue   \n",
      "3         Bentley   Arnage        10_1  10_1$$4    2018.0        4.0   Green   \n",
      "4         Bentley   Arnage        10_1  10_1$$5    2017.0       11.0    Grey   \n",
      "...           ...      ...         ...      ...       ...        ...     ...   \n",
      "268250  Westfield    Sport        97_1  97_1$$1    2018.0        5.0  Yellow   \n",
      "268251  Westfield    Sport        97_1  97_1$$2    2018.0        5.0  Yellow   \n",
      "268252      Zenos      E10        99_1  99_1$$1    2018.0        3.0     Red   \n",
      "268253      Zenos      E10        99_1  99_1$$2    2018.0        3.0   Green   \n",
      "268254      Zenos      E10        99_1  99_1$$3    2018.0        5.0    Grey   \n",
      "\n",
      "        Reg_year     Bodytype Runned_Miles Engin_size    Gearbox Fuel_type  \\\n",
      "0         2000.0       Saloon        60000       6.8L  Automatic    Petrol   \n",
      "1         2002.0       Saloon        44000       6.8L  Automatic    Petrol   \n",
      "2         2002.0       Saloon        55000       6.8L  Automatic    Petrol   \n",
      "3         2003.0       Saloon        14000       6.8L  Automatic    Petrol   \n",
      "4         2003.0       Saloon        61652       6.8L  Automatic    Petrol   \n",
      "...          ...          ...          ...        ...        ...       ...   \n",
      "268250    2006.0  Convertible         1800       2.2L     Manual    Petrol   \n",
      "268251    2006.0  Convertible         2009        NaN     Manual       NaN   \n",
      "268252    2016.0  Convertible            6       2.0L     Manual    Petrol   \n",
      "268253    2016.0  Convertible         1538       2.0L     Manual    Petrol   \n",
      "268254    2016.0  Convertible          500       2.3L     Manual    Petrol   \n",
      "\n",
      "        Price  Seat_num  Door_num  \n",
      "0       21500       5.0       4.0  \n",
      "1       28750       5.0       4.0  \n",
      "2       29999       5.0       4.0  \n",
      "3       34948       5.0       4.0  \n",
      "4       26555       5.0       4.0  \n",
      "...       ...       ...       ...  \n",
      "268250   8750       2.0       NaN  \n",
      "268251   7995       NaN       NaN  \n",
      "268252  27950       2.0       NaN  \n",
      "268253  34950       2.0       NaN  \n",
      "268254  29995       2.0       NaN  \n",
      "\n",
      "[268255 rows x 16 columns]\n"
     ]
    }
   ],
   "source": [
    "import pyreadr as pyr\n",
    "import pandas as pd\n",
    "import numpy as np \n",
    "import matplotlib.pyplot as plt\n",
    "from sklearn.preprocessing import OneHotEncoder\n",
    "from sklearn.compose import make_column_transformer # used with one hot encoding\n",
    "from sklearn.model_selection import train_test_split\n",
    "from sklearn.ensemble import ExtraTreesRegressor\n",
    "from sklearn.pipeline import Pipeline\n",
    "from sklearn.linear_model import LogisticRegression\n",
    "from sklearn import metrics\n",
    "from sklearn.inspection import permutation_importance\n",
    "\n",
    "carAd_file = pyr.read_r(\"car_ads_fp.RData\")\n",
    "carAd = carAd_file[\"carAd\"]\n",
    "carAd = pd.DataFrame(carAd) # so pd functions are colored\n",
    "carAd.reset_index(drop = True, inplace = True)\n",
    "print(carAd)"
   ]
  },
  {
   "cell_type": "code",
   "execution_count": 2,
   "id": "05c05dce",
   "metadata": {},
   "outputs": [
    {
     "name": "stdout",
     "output_type": "stream",
     "text": [
      "C3              1429\n",
      "DS3             1036\n",
      "Grande Punto     663\n",
      "Panda            391\n",
      "Name: Genmodel, dtype: int64\n"
     ]
    }
   ],
   "source": [
    "import pandas as pd\n",
    "\n",
    "# Models of interest\n",
    "models_of_interest = ['C3', 'DS3', 'Grande Punto', 'Panda']\n",
    "\n",
    "# Filtering the DataFrame for these specific models and getting their counts\n",
    "filtered_models_counts = carAd[\"Genmodel\"].value_counts(dropna = False).loc[models_of_interest]\n",
    "\n",
    "# Displaying the counts for the models of interest\n",
    "print(filtered_models_counts)\n"
   ]
  },
  {
   "cell_type": "code",
   "execution_count": 3,
   "id": "ca706b66",
   "metadata": {},
   "outputs": [
    {
     "name": "stdout",
     "output_type": "stream",
     "text": [
      "            Maker           Genmodel Genmodel_ID     Adv_ID  Adv_year  \\\n",
      "1120    Chevrolet              Kalos       16_10   16_10$$1    2018.0   \n",
      "1121    Chevrolet              Kalos       16_10   16_10$$2    2018.0   \n",
      "1122    Chevrolet              Kalos       16_10   16_10$$3    2018.0   \n",
      "1123    Chevrolet              Kalos       16_10   16_10$$4    2018.0   \n",
      "1124    Chevrolet              Kalos       16_10   16_10$$5    2018.0   \n",
      "...           ...                ...         ...        ...       ...   \n",
      "267719      Volvo  V40 Cross Country        96_8  96_8$$694    2021.0   \n",
      "267720      Volvo  V40 Cross Country        96_8  96_8$$695    2021.0   \n",
      "267721      Volvo  V40 Cross Country        96_8  96_8$$696    2021.0   \n",
      "267722      Volvo  V40 Cross Country        96_8  96_8$$697    2021.0   \n",
      "267723      Volvo  V40 Cross Country        96_8  96_8$$698    2021.0   \n",
      "\n",
      "        Adv_month   Color  Reg_year   Bodytype Runned_Miles Engin_size  \\\n",
      "1120          4.0    Grey    2007.0  Hatchback        25000       1.2L   \n",
      "1121          8.0  Silver    2008.0  Hatchback        47000       1.2L   \n",
      "1122          8.0  Silver    2007.0  Hatchback        74000       1.4L   \n",
      "1123          4.0  Silver    2007.0  Hatchback        59000       1.2L   \n",
      "1124          5.0   Black    2007.0  Hatchback        59000       1.2L   \n",
      "...           ...     ...       ...        ...          ...        ...   \n",
      "267719        5.0    Blue    2019.0  Hatchback        14220       1.5L   \n",
      "267720        5.0    Grey    2019.0  Hatchback        14845       1.5L   \n",
      "267721        5.0   White    2019.0  Hatchback        10250       1.5L   \n",
      "267722        6.0    Gold    2019.0  Hatchback        10980       1.5L   \n",
      "267723        6.0    Blue    2019.0  Hatchback         6798       1.5L   \n",
      "\n",
      "          Gearbox Fuel_type  Price  Seat_num  Door_num  \n",
      "1120       Manual    Petrol   1850       5.0       5.0  \n",
      "1121       Manual    Petrol   2495       5.0       5.0  \n",
      "1122       Manual    Petrol    895       5.0       5.0  \n",
      "1123       Manual    Petrol   1000       5.0       5.0  \n",
      "1124       Manual    Petrol   1000       5.0       3.0  \n",
      "...           ...       ...    ...       ...       ...  \n",
      "267719  Automatic    Petrol  17995       5.0       5.0  \n",
      "267720  Automatic    Petrol  18886       5.0       5.0  \n",
      "267721  Automatic    Petrol  21892       5.0       5.0  \n",
      "267722  Automatic    Petrol  19500       5.0       5.0  \n",
      "267723  Automatic    Petrol  20490       5.0       5.0  \n",
      "\n",
      "[100191 rows x 16 columns]\n"
     ]
    }
   ],
   "source": [
    "# Filter for 'Hatchback' bodytype and 'Petrol' or 'Diesel' fuel types\n",
    "filtered_cars = carAd[\n",
    "    (carAd['Bodytype'] == 'Hatchback') & \n",
    "    (carAd['Fuel_type'].isin(['Petrol', 'Diesel']))\n",
    "]\n",
    "\n",
    "# Display the filtered DataFrame\n",
    "print(filtered_cars)"
   ]
  },
  {
   "cell_type": "code",
   "execution_count": 4,
   "id": "c55761a0",
   "metadata": {},
   "outputs": [
    {
     "name": "stdout",
     "output_type": "stream",
     "text": [
      "Black          48751\n",
      "Silver         40214\n",
      "Blue           38376\n",
      "Grey           37678\n",
      "White          34270\n",
      "Red            25987\n",
      "NaN            21875\n",
      "Green           5027\n",
      "Yellow          3072\n",
      "Brown           2878\n",
      "Orange          2829\n",
      "Beige           1982\n",
      "Purple          1361\n",
      "Gold            1223\n",
      "Bronze          1200\n",
      "Multicolour      800\n",
      "Pink             299\n",
      "Maroon           179\n",
      "Turquoise        176\n",
      "Burgundy          48\n",
      "Magenta           18\n",
      "Navy               8\n",
      "Indigo             4\n",
      "Name: Color, dtype: int64\n",
      "['Black', 'Silver', 'Blue', 'Grey', 'White']\n"
     ]
    }
   ],
   "source": [
    "# 5 colors \n",
    "print(carAd[\"Color\"].value_counts(dropna = False))\n",
    "# captures 0-4 top color classes\n",
    "cols = carAd[\"Color\"].value_counts().index.tolist()[:5]\n",
    "print(cols) # inspect\n"
   ]
  },
  {
   "cell_type": "code",
   "execution_count": 5,
   "id": "da19a299",
   "metadata": {},
   "outputs": [
    {
     "name": "stdout",
     "output_type": "stream",
     "text": [
      "         Maker Genmodel  Color Gearbox Fuel_type   Bodytype\n",
      "7740   Citroen       C3   Blue  Manual    Diesel  Hatchback\n",
      "7742   Citroen       C3  Black  Manual    Diesel  Hatchback\n",
      "7743   Citroen       C3  Black  Manual    Petrol  Hatchback\n",
      "7745   Citroen       C3    Red  Manual    Petrol  Hatchback\n",
      "7746   Citroen       C3   Blue  Manual    Petrol  Hatchback\n",
      "...        ...      ...    ...     ...       ...        ...\n",
      "16262     Fiat    Panda  White  Manual    Petrol  Hatchback\n",
      "16264     Fiat    Panda  White  Manual    Petrol  Hatchback\n",
      "16265     Fiat    Panda    Red  Manual    Petrol  Hatchback\n",
      "16268     Fiat    Panda    Red  Manual    Petrol  Hatchback\n",
      "16269     Fiat    Panda   Blue  Manual    Petrol  Hatchback\n",
      "\n",
      "[2662 rows x 6 columns]\n"
     ]
    }
   ],
   "source": [
    "top_5_colors = carAd[carAd['Genmodel'].isin(['C3', 'DS3', 'Grande Punto', 'Panda'])]['Color'].value_counts().head(5).index.tolist()\n",
    "\n",
    "# Filter for 'Hatchback' bodytype, 'Petrol' or 'Diesel' fuel types, and specified models\n",
    "filtered_cars = carAd[\n",
    "    (carAd['Bodytype'] == 'Hatchback') & \n",
    "    (carAd['Fuel_type'].isin(['Petrol', 'Diesel'])) &\n",
    "    (carAd['Genmodel'].isin(['C3', 'DS3', 'Grande Punto', 'Panda'])) &\n",
    "    (carAd['Color'].isin(top_5_colors))\n",
    "]\n",
    "\n",
    "# Select only the required columns\n",
    "filtered_cars = filtered_cars[['Maker', 'Genmodel', 'Color', 'Gearbox', 'Fuel_type', 'Bodytype']]\n",
    "\n",
    "# Display the filtered DataFrame with the specified columns\n",
    "print(filtered_cars)\n",
    "\n"
   ]
  },
  {
   "cell_type": "code",
   "execution_count": null,
   "id": "6a89fb2e",
   "metadata": {},
   "outputs": [],
   "source": []
  }
 ],
 "metadata": {
  "kernelspec": {
   "display_name": "Python 3 (ipykernel)",
   "language": "python",
   "name": "python3"
  },
  "language_info": {
   "codemirror_mode": {
    "name": "ipython",
    "version": 3
   },
   "file_extension": ".py",
   "mimetype": "text/x-python",
   "name": "python",
   "nbconvert_exporter": "python",
   "pygments_lexer": "ipython3",
   "version": "3.9.12"
  }
 },
 "nbformat": 4,
 "nbformat_minor": 5
}
